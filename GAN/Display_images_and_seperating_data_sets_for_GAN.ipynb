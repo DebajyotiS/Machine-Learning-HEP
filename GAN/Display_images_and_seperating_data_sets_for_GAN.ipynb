{
 "cells": [
  {
   "cell_type": "markdown",
   "metadata": {},
   "source": [
    "# Code snippet to seperate the halo and prompt photons into seperate data files for GAN training"
   ]
  },
  {
   "cell_type": "markdown",
   "metadata": {},
   "source": [
    "load libraries and dependencies"
   ]
  },
  {
   "cell_type": "code",
   "execution_count": 1,
   "metadata": {},
   "outputs": [
    {
     "name": "stderr",
     "output_type": "stream",
     "text": [
      "Using TensorFlow backend.\n"
     ]
    }
   ],
   "source": [
    "import matplotlib.pyplot as plt\n",
    "import numpy as np\n",
    "from keras.utils.np_utils import to_categorical"
   ]
  },
  {
   "cell_type": "markdown",
   "metadata": {},
   "source": [
    "load the original data set"
   ]
  },
  {
   "cell_type": "code",
   "execution_count": 2,
   "metadata": {},
   "outputs": [],
   "source": [
    "data_set = np.loadtxt(\"output0.csv\")\n",
    "(x_train, y_train) = (data_set[:,0:81],data_set[:,81])\n",
    "X_Net = x_train.reshape(x_train.shape[0],9,9,1)\n",
    "Y_Net = to_categorical(y_train,2)"
   ]
  },
  {
   "cell_type": "markdown",
   "metadata": {},
   "source": [
    "Defining a function that displays the data as image with the proper classification"
   ]
  },
  {
   "cell_type": "code",
   "execution_count": 3,
   "metadata": {},
   "outputs": [
    {
     "data": {
      "image/png": "[encoded data removed]",
      "text/plain": [
       "<Figure size 432x288 with 1 Axes>"
      ]
     },
     "metadata": {
      "needs_background": "light"
     },
     "output_type": "display_data"
    },
    {
     "data": {
      "image/png": "[encoded data removed]",
      "text/plain": [
       "<Figure size 432x288 with 1 Axes>"
      ]
     },
     "metadata": {
      "needs_background": "light"
     },
     "output_type": "display_data"
    }
   ],
   "source": [
    "def display_deposition_with_classification(i):\n",
    "    def name(Y_Net):\n",
    "        if Y_Net[0] == 1:\n",
    "            return \"Halo\"\n",
    "        elif Y_Net[0] == 0:\n",
    "            return \"Prompt\"\n",
    "    xx = X_Net[i,:].reshape(9,9)\n",
    "    plt.imshow(xx,alpha=0.85, cmap='gray')\n",
    "    plt.title(name(Y_Net[i,:]))\n",
    "    plt.show()\n",
    "\n",
    "for i in range(2):\n",
    "    display_deposition_with_classification(i)"
   ]
  },
  {
   "cell_type": "markdown",
   "metadata": {},
   "source": [
    "Seperating the indices "
   ]
  },
  {
   "cell_type": "code",
   "execution_count": 4,
   "metadata": {},
   "outputs": [],
   "source": [
    "halo_index = []\n",
    "prompt_index = []\n",
    "for i in  range(X_Net.shape[0]):\n",
    "    if y_train[i] == 0:\n",
    "        halo_index.append(i)\n",
    "    else:\n",
    "        prompt_index.append(i)\n",
    "# print(halo_index, prompt_index)"
   ]
  },
  {
   "cell_type": "markdown",
   "metadata": {},
   "source": [
    "seperating the data"
   ]
  },
  {
   "cell_type": "code",
   "execution_count": 5,
   "metadata": {},
   "outputs": [],
   "source": [
    "halo = []\n",
    "for item in halo_index:\n",
    "    halo.append(np.hstack((x_train[item],y_train[item])))\n",
    "prompt = []\n",
    "for iterations in prompt_index:\n",
    "    prompt.append(np.hstack((x_train[iterations],y_train[iterations])))"
   ]
  },
  {
   "cell_type": "markdown",
   "metadata": {},
   "source": [
    "Save the data as csv"
   ]
  },
  {
   "cell_type": "code",
   "execution_count": 7,
   "metadata": {},
   "outputs": [],
   "source": [
    "np.savetxt(\"prompt_data.csv\",prompt,delimiter=\",\")\n",
    "np.savetxt(\"halo_data.csv\", halo, delimiter=\",\")"
   ]
  },
  {
   "cell_type": "markdown",
   "metadata": {},
   "source": [
    "Now load the data sets from the csv and check if everything is in order"
   ]
  },
  {
   "cell_type": "code",
   "execution_count": 8,
   "metadata": {},
   "outputs": [],
   "source": [
    "halo_data = np.loadtxt(\"halo_data.csv\", delimiter=\",\")\n",
    "prompt_data = np.loadtxt(\"prompt_data.csv\", delimiter=\",\")"
   ]
  },
  {
   "cell_type": "code",
   "execution_count": 9,
   "metadata": {},
   "outputs": [],
   "source": [
    "(x_halo, y_halo) = (halo_data[:,0:81], halo_data[:,81])\n",
    "\n",
    "(x_prmpt, y_prmpt) = (prompt_data[:,0:81], prompt_data[:,81])\n"
   ]
  },
  {
   "cell_type": "markdown",
   "metadata": {},
   "source": [
    "printing the data set shapes"
   ]
  },
  {
   "cell_type": "code",
   "execution_count": 10,
   "metadata": {},
   "outputs": [
    {
     "name": "stdout",
     "output_type": "stream",
     "text": [
      "(35052, 82) (34948, 82)\n"
     ]
    }
   ],
   "source": [
    "print(halo_data.shape, prompt_data.shape)"
   ]
  },
  {
   "cell_type": "markdown",
   "metadata": {},
   "source": [
    "A final check, printing the y list will suffice (why is that exactly?)"
   ]
  },
  {
   "cell_type": "code",
   "execution_count": 11,
   "metadata": {},
   "outputs": [
    {
     "name": "stdout",
     "output_type": "stream",
     "text": [
      "[0. 0. 0. ... 0. 0. 0.] [1. 1. 1. ... 1. 1. 1.]\n"
     ]
    }
   ],
   "source": [
    "print(y_halo, y_prmpt)"
   ]
  }
 ],
 "metadata": {
  "kernelspec": {
   "display_name": "Python 3",
   "language": "python",
   "name": "python3"
  },
  "language_info": {
   "codemirror_mode": {
    "name": "ipython",
    "version": 3
   },
   "file_extension": ".py",
   "mimetype": "text/x-python",
   "name": "python",
   "nbconvert_exporter": "python",
   "pygments_lexer": "ipython3",
   "version": "3.7.3"
  }
 },
 "nbformat": 4,
 "nbformat_minor": 2
}
